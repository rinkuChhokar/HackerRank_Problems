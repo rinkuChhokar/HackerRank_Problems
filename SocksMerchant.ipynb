{
 "cells": [
  {
   "cell_type": "markdown",
   "id": "f6c89360",
   "metadata": {},
   "source": [
    "### Socks Merchant Problem"
   ]
  },
  {
   "cell_type": "code",
   "execution_count": 18,
   "id": "2205a641",
   "metadata": {
    "scrolled": true
   },
   "outputs": [
    {
     "name": "stdout",
     "output_type": "stream",
     "text": [
      "Enter length4\n",
      "44\n",
      "5\n",
      "55\n",
      "4\n"
     ]
    },
    {
     "data": {
      "text/plain": [
       "0"
      ]
     },
     "execution_count": 18,
     "metadata": {},
     "output_type": "execute_result"
    }
   ],
   "source": [
    "# In this prolem, we gona see a problem in which we need to find socks pair and\n",
    "# return no. of pairs of the socks-\n",
    "\n",
    "# So lets start :)\n",
    "# import Counter package for couting the occurence of values-\n",
    "\n",
    "from collections import Counter\n",
    "\n",
    "def fun(arr, arrlen):\n",
    "    s  = 0 \n",
    "    \n",
    "    for i in Counter(arr).values():\n",
    "        s += i//2\n",
    "        \n",
    "    return s    \n",
    "\n",
    "\n",
    "# array given - \n",
    "n = int(input(\"Enter length\"))\n",
    "arr = []\n",
    "for i in range(0,n):\n",
    "    val = int(input())\n",
    "    arr.append(val)\n",
    "\n",
    "arrlen = len(arr) \n",
    "\n",
    "fun(arr,arrlen)\n"
   ]
  },
  {
   "cell_type": "code",
   "execution_count": null,
   "id": "b80911b0",
   "metadata": {},
   "outputs": [],
   "source": []
  }
 ],
 "metadata": {
  "kernelspec": {
   "display_name": "Python 3",
   "language": "python",
   "name": "python3"
  },
  "language_info": {
   "codemirror_mode": {
    "name": "ipython",
    "version": 3
   },
   "file_extension": ".py",
   "mimetype": "text/x-python",
   "name": "python",
   "nbconvert_exporter": "python",
   "pygments_lexer": "ipython3",
   "version": "3.9.2"
  }
 },
 "nbformat": 4,
 "nbformat_minor": 5
}
