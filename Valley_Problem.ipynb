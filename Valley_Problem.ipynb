{
 "cells": [
  {
   "cell_type": "markdown",
   "id": "d53d737a",
   "metadata": {},
   "source": [
    "### Valley Problem"
   ]
  },
  {
   "cell_type": "code",
   "execution_count": 1,
   "id": "1abb0dc7",
   "metadata": {},
   "outputs": [
    {
     "data": {
      "text/plain": [
       "1"
      ]
     },
     "execution_count": 1,
     "metadata": {},
     "output_type": "execute_result"
    }
   ],
   "source": [
    "# In this problem we have to find no. of valley occurred in a particula pattern\n",
    "\n",
    "# Basically in the program we have given a strings of combination of U's and D's\n",
    "\n",
    "# -          -\n",
    "#  \\        /\n",
    "#   \\  /\\  / \n",
    "#    \\/  \\/\n",
    "\n",
    "#  '/'----> U     and     '\\'----> D\n",
    "\n",
    "# In the figure above no. of valley occurred is- 1\n",
    "\n",
    "def cal(a,str1):\n",
    "    val = 0\n",
    "    val1 = 0\n",
    "    for i in str1:\n",
    "        if i=='U':\n",
    "            val+=1\n",
    "            \n",
    "            if val == 0:\n",
    "                val1 += 1 \n",
    "        else:\n",
    "            val -=1\n",
    "    return val1\n",
    "    \n",
    "a = 2\n",
    "str1 = 'UDDDUDUU'\n",
    "cal(a,str1)"
   ]
  },
  {
   "cell_type": "code",
   "execution_count": null,
   "id": "87fca41b",
   "metadata": {},
   "outputs": [],
   "source": []
  }
 ],
 "metadata": {
  "kernelspec": {
   "display_name": "Python 3",
   "language": "python",
   "name": "python3"
  },
  "language_info": {
   "codemirror_mode": {
    "name": "ipython",
    "version": 3
   },
   "file_extension": ".py",
   "mimetype": "text/x-python",
   "name": "python",
   "nbconvert_exporter": "python",
   "pygments_lexer": "ipython3",
   "version": "3.9.2"
  }
 },
 "nbformat": 4,
 "nbformat_minor": 5
}
